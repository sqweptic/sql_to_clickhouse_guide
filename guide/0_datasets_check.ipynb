{
 "cells": [
  {
   "cell_type": "code",
   "execution_count": 3,
   "metadata": {},
   "outputs": [
    {
     "output_type": "stream",
     "name": "stdout",
     "text": "packages import success\n"
    }
   ],
   "source": [
    "import pandas as pd\n",
    "import numpy as np\n",
    "\n",
    "print('packages import success')"
   ]
  },
  {
   "cell_type": "code",
   "execution_count": 9,
   "metadata": {},
   "outputs": [],
   "source": [
    "bank_accounts_df = pd.read_csv(\n",
    "    '../datasets/bank.csv',\n",
    "    delimiter = ';',\n",
    "    nrows = 100,\n",
    "    dtype = {\n",
    "        'withdrawal_amt': np.float64,\n",
    "        'deposit_amt': np.float64,\n",
    "        'balance_amt': np.float64\n",
    "    },\n",
    "    decimal = ',',\n",
    "    parse_dates = ['date', 'value_date']\n",
    ")"
   ]
  },
  {
   "cell_type": "code",
   "execution_count": 11,
   "metadata": {},
   "outputs": [
    {
     "output_type": "execute_result",
     "data": {
      "text/plain": "      account_no       date               transaction_details  chq_no  \\\n0   409000611074 2017-06-29  TRF FROM  Indiaforensic SERVICES     NaN   \n1   409000611074 2017-07-05  TRF FROM  Indiaforensic SERVICES     NaN   \n2   409000611074 2017-07-18        FDRL/INTERNAL FUND TRANSFE     NaN   \n3   409000611074 2017-08-01   TRF FRM  Indiaforensic SERVICES     NaN   \n4   409000611074 2017-08-16        FDRL/INTERNAL FUND TRANSFE     NaN   \n5   409000611074 2017-08-16        FDRL/INTERNAL FUND TRANSFE     NaN   \n6   409000611074 2017-08-16        FDRL/INTERNAL FUND TRANSFE     NaN   \n7   409000611074 2017-08-16        FDRL/INTERNAL FUND TRANSFE     NaN   \n8   409000611074 2017-08-16        FDRL/INTERNAL FUND TRANSFE     NaN   \n9   409000611074 2017-08-16        FDRL/INTERNAL FUND TRANSFE     NaN   \n10  409000611074 2017-08-16  INDO GIBL Indiaforensic STL01071     NaN   \n11  409000611074 2017-08-16  INDO GIBL Indiaforensic STL02071     NaN   \n12  409000611074 2017-08-16  INDO GIBL Indiaforensic STL03071     NaN   \n13  409000611074 2017-08-16  INDO GIBL Indiaforensic STL04071     NaN   \n14  409000611074 2017-08-16  INDO GIBL Indiaforensic STL05071     NaN   \n\n   value_date  withdrawal_amt  deposit_amt  balance_amt  \n0  2017-06-29             NaN    1000000.0    1000000.0  \n1  2017-07-05             NaN    1000000.0    2000000.0  \n2  2017-07-18             NaN     500000.0    2500000.0  \n3  2017-08-01             NaN    3000000.0    5500000.0  \n4  2017-08-16             NaN     500000.0    6000000.0  \n5  2017-08-16             NaN     500000.0    6500000.0  \n6  2017-08-16             NaN     500000.0    7000000.0  \n7  2017-08-16             NaN     500000.0    7500000.0  \n8  2017-08-16             NaN     500000.0    8000000.0  \n9  2017-08-16             NaN     500000.0    8500000.0  \n10 2017-08-16        133900.0          NaN    8366100.0  \n11 2017-08-16         18000.0          NaN    8348100.0  \n12 2017-08-16          5000.0          NaN    8343100.0  \n13 2017-08-16        195800.0          NaN    8147300.0  \n14 2017-08-16         81600.0          NaN    8065700.0  ",
      "text/html": "<div>\n<style scoped>\n    .dataframe tbody tr th:only-of-type {\n        vertical-align: middle;\n    }\n\n    .dataframe tbody tr th {\n        vertical-align: top;\n    }\n\n    .dataframe thead th {\n        text-align: right;\n    }\n</style>\n<table border=\"1\" class=\"dataframe\">\n  <thead>\n    <tr style=\"text-align: right;\">\n      <th></th>\n      <th>account_no</th>\n      <th>date</th>\n      <th>transaction_details</th>\n      <th>chq_no</th>\n      <th>value_date</th>\n      <th>withdrawal_amt</th>\n      <th>deposit_amt</th>\n      <th>balance_amt</th>\n    </tr>\n  </thead>\n  <tbody>\n    <tr>\n      <th>0</th>\n      <td>409000611074</td>\n      <td>2017-06-29</td>\n      <td>TRF FROM  Indiaforensic SERVICES</td>\n      <td>NaN</td>\n      <td>2017-06-29</td>\n      <td>NaN</td>\n      <td>1000000.0</td>\n      <td>1000000.0</td>\n    </tr>\n    <tr>\n      <th>1</th>\n      <td>409000611074</td>\n      <td>2017-07-05</td>\n      <td>TRF FROM  Indiaforensic SERVICES</td>\n      <td>NaN</td>\n      <td>2017-07-05</td>\n      <td>NaN</td>\n      <td>1000000.0</td>\n      <td>2000000.0</td>\n    </tr>\n    <tr>\n      <th>2</th>\n      <td>409000611074</td>\n      <td>2017-07-18</td>\n      <td>FDRL/INTERNAL FUND TRANSFE</td>\n      <td>NaN</td>\n      <td>2017-07-18</td>\n      <td>NaN</td>\n      <td>500000.0</td>\n      <td>2500000.0</td>\n    </tr>\n    <tr>\n      <th>3</th>\n      <td>409000611074</td>\n      <td>2017-08-01</td>\n      <td>TRF FRM  Indiaforensic SERVICES</td>\n      <td>NaN</td>\n      <td>2017-08-01</td>\n      <td>NaN</td>\n      <td>3000000.0</td>\n      <td>5500000.0</td>\n    </tr>\n    <tr>\n      <th>4</th>\n      <td>409000611074</td>\n      <td>2017-08-16</td>\n      <td>FDRL/INTERNAL FUND TRANSFE</td>\n      <td>NaN</td>\n      <td>2017-08-16</td>\n      <td>NaN</td>\n      <td>500000.0</td>\n      <td>6000000.0</td>\n    </tr>\n    <tr>\n      <th>5</th>\n      <td>409000611074</td>\n      <td>2017-08-16</td>\n      <td>FDRL/INTERNAL FUND TRANSFE</td>\n      <td>NaN</td>\n      <td>2017-08-16</td>\n      <td>NaN</td>\n      <td>500000.0</td>\n      <td>6500000.0</td>\n    </tr>\n    <tr>\n      <th>6</th>\n      <td>409000611074</td>\n      <td>2017-08-16</td>\n      <td>FDRL/INTERNAL FUND TRANSFE</td>\n      <td>NaN</td>\n      <td>2017-08-16</td>\n      <td>NaN</td>\n      <td>500000.0</td>\n      <td>7000000.0</td>\n    </tr>\n    <tr>\n      <th>7</th>\n      <td>409000611074</td>\n      <td>2017-08-16</td>\n      <td>FDRL/INTERNAL FUND TRANSFE</td>\n      <td>NaN</td>\n      <td>2017-08-16</td>\n      <td>NaN</td>\n      <td>500000.0</td>\n      <td>7500000.0</td>\n    </tr>\n    <tr>\n      <th>8</th>\n      <td>409000611074</td>\n      <td>2017-08-16</td>\n      <td>FDRL/INTERNAL FUND TRANSFE</td>\n      <td>NaN</td>\n      <td>2017-08-16</td>\n      <td>NaN</td>\n      <td>500000.0</td>\n      <td>8000000.0</td>\n    </tr>\n    <tr>\n      <th>9</th>\n      <td>409000611074</td>\n      <td>2017-08-16</td>\n      <td>FDRL/INTERNAL FUND TRANSFE</td>\n      <td>NaN</td>\n      <td>2017-08-16</td>\n      <td>NaN</td>\n      <td>500000.0</td>\n      <td>8500000.0</td>\n    </tr>\n    <tr>\n      <th>10</th>\n      <td>409000611074</td>\n      <td>2017-08-16</td>\n      <td>INDO GIBL Indiaforensic STL01071</td>\n      <td>NaN</td>\n      <td>2017-08-16</td>\n      <td>133900.0</td>\n      <td>NaN</td>\n      <td>8366100.0</td>\n    </tr>\n    <tr>\n      <th>11</th>\n      <td>409000611074</td>\n      <td>2017-08-16</td>\n      <td>INDO GIBL Indiaforensic STL02071</td>\n      <td>NaN</td>\n      <td>2017-08-16</td>\n      <td>18000.0</td>\n      <td>NaN</td>\n      <td>8348100.0</td>\n    </tr>\n    <tr>\n      <th>12</th>\n      <td>409000611074</td>\n      <td>2017-08-16</td>\n      <td>INDO GIBL Indiaforensic STL03071</td>\n      <td>NaN</td>\n      <td>2017-08-16</td>\n      <td>5000.0</td>\n      <td>NaN</td>\n      <td>8343100.0</td>\n    </tr>\n    <tr>\n      <th>13</th>\n      <td>409000611074</td>\n      <td>2017-08-16</td>\n      <td>INDO GIBL Indiaforensic STL04071</td>\n      <td>NaN</td>\n      <td>2017-08-16</td>\n      <td>195800.0</td>\n      <td>NaN</td>\n      <td>8147300.0</td>\n    </tr>\n    <tr>\n      <th>14</th>\n      <td>409000611074</td>\n      <td>2017-08-16</td>\n      <td>INDO GIBL Indiaforensic STL05071</td>\n      <td>NaN</td>\n      <td>2017-08-16</td>\n      <td>81600.0</td>\n      <td>NaN</td>\n      <td>8065700.0</td>\n    </tr>\n  </tbody>\n</table>\n</div>"
     },
     "metadata": {},
     "execution_count": 11
    }
   ],
   "source": [
    "bank_accounts_df.head(15)"
   ]
  },
  {
   "cell_type": "code",
   "execution_count": 14,
   "metadata": {},
   "outputs": [
    {
     "output_type": "stream",
     "name": "stdout",
     "text": "<class 'pandas.core.frame.DataFrame'>\nRangeIndex: 100 entries, 0 to 99\nData columns (total 8 columns):\n #   Column               Non-Null Count  Dtype         \n---  ------               --------------  -----         \n 0   account_no           100 non-null    int64         \n 1   date                 100 non-null    datetime64[ns]\n 2   transaction_details  100 non-null    object        \n 3   chq_no               0 non-null      float64       \n 4   value_date           100 non-null    datetime64[ns]\n 5   withdrawal_amt       85 non-null     float64       \n 6   deposit_amt          15 non-null     float64       \n 7   balance_amt          100 non-null    float64       \ndtypes: datetime64[ns](2), float64(4), int64(1), object(1)\nmemory usage: 5.9+ KB\n"
    }
   ],
   "source": [
    "bank_accounts_df.info()"
   ]
  },
  {
   "cell_type": "code",
   "execution_count": 16,
   "metadata": {},
   "outputs": [
    {
     "output_type": "execute_result",
     "data": {
      "text/plain": "          account_no                 date         transaction_details  chq_no  \\\ncount   1.000000e+02                  100                         100     0.0   \nunique           NaN                   11                          88     NaN   \ntop              NaN  2017-08-16 00:00:00  FDRL/INTERNAL FUND TRANSFE     NaN   \nfreq             NaN                   33                          12     NaN   \nfirst            NaN  2017-06-29 00:00:00                         NaN     NaN   \nlast             NaN  2017-10-03 00:00:00                         NaN     NaN   \nmean    4.090006e+11                  NaN                         NaN     NaN   \nstd     0.000000e+00                  NaN                         NaN     NaN   \nmin     4.090006e+11                  NaN                         NaN     NaN   \n25%     4.090006e+11                  NaN                         NaN     NaN   \n50%     4.090006e+11                  NaN                         NaN     NaN   \n75%     4.090006e+11                  NaN                         NaN     NaN   \nmax     4.090006e+11                  NaN                         NaN     NaN   \n\n                 value_date  withdrawal_amt   deposit_amt   balance_amt  \ncount                   100       85.000000  1.500000e+01  1.000000e+02  \nunique                   11             NaN           NaN           NaN  \ntop     2017-08-16 00:00:00             NaN           NaN           NaN  \nfreq                     33             NaN           NaN           NaN  \nfirst   2017-06-29 00:00:00             NaN           NaN           NaN  \nlast    2017-10-03 00:00:00             NaN           NaN           NaN  \nmean                    NaN   115691.047059  7.333333e+05  3.992014e+06  \nstd                     NaN    96798.091683  6.510065e+05  2.427124e+06  \nmin                     NaN     5000.000000  5.000000e+05  2.435880e+05  \n25%                     NaN    40100.000000  5.000000e+05  1.884331e+06  \n50%                     NaN    88656.000000  5.000000e+05  3.336020e+06  \n75%                     NaN   171000.000000  5.000000e+05  5.969863e+06  \nmax                     NaN   411763.000000  3.000000e+06  8.500000e+06  ",
      "text/html": "<div>\n<style scoped>\n    .dataframe tbody tr th:only-of-type {\n        vertical-align: middle;\n    }\n\n    .dataframe tbody tr th {\n        vertical-align: top;\n    }\n\n    .dataframe thead th {\n        text-align: right;\n    }\n</style>\n<table border=\"1\" class=\"dataframe\">\n  <thead>\n    <tr style=\"text-align: right;\">\n      <th></th>\n      <th>account_no</th>\n      <th>date</th>\n      <th>transaction_details</th>\n      <th>chq_no</th>\n      <th>value_date</th>\n      <th>withdrawal_amt</th>\n      <th>deposit_amt</th>\n      <th>balance_amt</th>\n    </tr>\n  </thead>\n  <tbody>\n    <tr>\n      <th>count</th>\n      <td>1.000000e+02</td>\n      <td>100</td>\n      <td>100</td>\n      <td>0.0</td>\n      <td>100</td>\n      <td>85.000000</td>\n      <td>1.500000e+01</td>\n      <td>1.000000e+02</td>\n    </tr>\n    <tr>\n      <th>unique</th>\n      <td>NaN</td>\n      <td>11</td>\n      <td>88</td>\n      <td>NaN</td>\n      <td>11</td>\n      <td>NaN</td>\n      <td>NaN</td>\n      <td>NaN</td>\n    </tr>\n    <tr>\n      <th>top</th>\n      <td>NaN</td>\n      <td>2017-08-16 00:00:00</td>\n      <td>FDRL/INTERNAL FUND TRANSFE</td>\n      <td>NaN</td>\n      <td>2017-08-16 00:00:00</td>\n      <td>NaN</td>\n      <td>NaN</td>\n      <td>NaN</td>\n    </tr>\n    <tr>\n      <th>freq</th>\n      <td>NaN</td>\n      <td>33</td>\n      <td>12</td>\n      <td>NaN</td>\n      <td>33</td>\n      <td>NaN</td>\n      <td>NaN</td>\n      <td>NaN</td>\n    </tr>\n    <tr>\n      <th>first</th>\n      <td>NaN</td>\n      <td>2017-06-29 00:00:00</td>\n      <td>NaN</td>\n      <td>NaN</td>\n      <td>2017-06-29 00:00:00</td>\n      <td>NaN</td>\n      <td>NaN</td>\n      <td>NaN</td>\n    </tr>\n    <tr>\n      <th>last</th>\n      <td>NaN</td>\n      <td>2017-10-03 00:00:00</td>\n      <td>NaN</td>\n      <td>NaN</td>\n      <td>2017-10-03 00:00:00</td>\n      <td>NaN</td>\n      <td>NaN</td>\n      <td>NaN</td>\n    </tr>\n    <tr>\n      <th>mean</th>\n      <td>4.090006e+11</td>\n      <td>NaN</td>\n      <td>NaN</td>\n      <td>NaN</td>\n      <td>NaN</td>\n      <td>115691.047059</td>\n      <td>7.333333e+05</td>\n      <td>3.992014e+06</td>\n    </tr>\n    <tr>\n      <th>std</th>\n      <td>0.000000e+00</td>\n      <td>NaN</td>\n      <td>NaN</td>\n      <td>NaN</td>\n      <td>NaN</td>\n      <td>96798.091683</td>\n      <td>6.510065e+05</td>\n      <td>2.427124e+06</td>\n    </tr>\n    <tr>\n      <th>min</th>\n      <td>4.090006e+11</td>\n      <td>NaN</td>\n      <td>NaN</td>\n      <td>NaN</td>\n      <td>NaN</td>\n      <td>5000.000000</td>\n      <td>5.000000e+05</td>\n      <td>2.435880e+05</td>\n    </tr>\n    <tr>\n      <th>25%</th>\n      <td>4.090006e+11</td>\n      <td>NaN</td>\n      <td>NaN</td>\n      <td>NaN</td>\n      <td>NaN</td>\n      <td>40100.000000</td>\n      <td>5.000000e+05</td>\n      <td>1.884331e+06</td>\n    </tr>\n    <tr>\n      <th>50%</th>\n      <td>4.090006e+11</td>\n      <td>NaN</td>\n      <td>NaN</td>\n      <td>NaN</td>\n      <td>NaN</td>\n      <td>88656.000000</td>\n      <td>5.000000e+05</td>\n      <td>3.336020e+06</td>\n    </tr>\n    <tr>\n      <th>75%</th>\n      <td>4.090006e+11</td>\n      <td>NaN</td>\n      <td>NaN</td>\n      <td>NaN</td>\n      <td>NaN</td>\n      <td>171000.000000</td>\n      <td>5.000000e+05</td>\n      <td>5.969863e+06</td>\n    </tr>\n    <tr>\n      <th>max</th>\n      <td>4.090006e+11</td>\n      <td>NaN</td>\n      <td>NaN</td>\n      <td>NaN</td>\n      <td>NaN</td>\n      <td>411763.000000</td>\n      <td>3.000000e+06</td>\n      <td>8.500000e+06</td>\n    </tr>\n  </tbody>\n</table>\n</div>"
     },
     "metadata": {},
     "execution_count": 16
    }
   ],
   "source": [
    "bank_accounts_df.describe(include = 'all')"
   ]
  }
 ],
 "metadata": {
  "language_info": {
   "codemirror_mode": {
    "name": "ipython",
    "version": 3
   },
   "file_extension": ".py",
   "mimetype": "text/x-python",
   "name": "python",
   "nbconvert_exporter": "python",
   "pygments_lexer": "ipython3",
   "version": "3.7.3-final"
  },
  "orig_nbformat": 2,
  "kernelspec": {
   "name": "python37332bit1a1da2fef48740a28bc048c171e2c444",
   "display_name": "Python 3.7.3 32-bit"
  }
 },
 "nbformat": 4,
 "nbformat_minor": 2
}