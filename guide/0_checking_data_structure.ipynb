{
 "cells": [
  {
   "cell_type": "code",
   "execution_count": 18,
   "metadata": {},
   "outputs": [
    {
     "output_type": "stream",
     "name": "stdout",
     "text": "The sql extension is already loaded. To reload it, use:\n  %reload_ext sql\nsuccess: load and import\n"
    }
   ],
   "source": [
    "import numpy as np\n",
    "import pandas as pd\n",
    "\n",
    "# setting up a notebook extension (inotebook-sql)\n",
    "%load_ext sql\n",
    "%config SqlMagic.autocommit=False\n",
    "\n",
    "print('success: load and import')"
   ]
  },
  {
   "cell_type": "markdown",
   "metadata": {},
   "source": [
    "- [Checking CSV dataset](#Checking-CSV-dataset)\n",
    "- [Checking Presto table](#Checking-Presto-table)\n",
    "- [Checking Clickhouse table](#Checking-Clickhouse-table)"
   ]
  },
  {
   "cell_type": "markdown",
   "metadata": {},
   "source": [
    "# Checking CSV dataset"
   ]
  },
  {
   "cell_type": "code",
   "execution_count": 19,
   "metadata": {},
   "outputs": [],
   "source": [
    "bank_accounts_df = pd.read_csv(\n",
    "    '../datasets/bank.csv',\n",
    "    delimiter = ';',\n",
    "    dtype = {\n",
    "        'withdrawal_amt': np.float64,\n",
    "        'deposit_amt': np.float64,\n",
    "        'balance_amt': np.float64\n",
    "    },\n",
    "    decimal = ',',\n",
    "    parse_dates = ['dt', 'value_dt']\n",
    ")"
   ]
  },
  {
   "cell_type": "code",
   "execution_count": 20,
   "metadata": {},
   "outputs": [
    {
     "output_type": "execute_result",
     "data": {
      "text/plain": "      account_no         dt               transaction_details  chq_no  \\\n0   409000611074 2017-06-29  TRF FROM  Indiaforensic SERVICES     NaN   \n1   409000611074 2017-07-05  TRF FROM  Indiaforensic SERVICES     NaN   \n2   409000611074 2017-07-18        FDRL/INTERNAL FUND TRANSFE     NaN   \n3   409000611074 2017-08-01   TRF FRM  Indiaforensic SERVICES     NaN   \n4   409000611074 2017-08-16        FDRL/INTERNAL FUND TRANSFE     NaN   \n5   409000611074 2017-08-16        FDRL/INTERNAL FUND TRANSFE     NaN   \n6   409000611074 2017-08-16        FDRL/INTERNAL FUND TRANSFE     NaN   \n7   409000611074 2017-08-16        FDRL/INTERNAL FUND TRANSFE     NaN   \n8   409000611074 2017-08-16        FDRL/INTERNAL FUND TRANSFE     NaN   \n9   409000611074 2017-08-16        FDRL/INTERNAL FUND TRANSFE     NaN   \n10  409000611074 2017-08-16  INDO GIBL Indiaforensic STL01071     NaN   \n11  409000611074 2017-08-16  INDO GIBL Indiaforensic STL02071     NaN   \n12  409000611074 2017-08-16  INDO GIBL Indiaforensic STL03071     NaN   \n13  409000611074 2017-08-16  INDO GIBL Indiaforensic STL04071     NaN   \n14  409000611074 2017-08-16  INDO GIBL Indiaforensic STL05071     NaN   \n\n     value_dt  withdrawal_amt  deposit_amt  balance_amt  \n0  2017-06-29             NaN    1000000.0    1000000.0  \n1  2017-07-05             NaN    1000000.0    2000000.0  \n2  2017-07-18             NaN     500000.0    2500000.0  \n3  2017-08-01             NaN    3000000.0    5500000.0  \n4  2017-08-16             NaN     500000.0    6000000.0  \n5  2017-08-16             NaN     500000.0    6500000.0  \n6  2017-08-16             NaN     500000.0    7000000.0  \n7  2017-08-16             NaN     500000.0    7500000.0  \n8  2017-08-16             NaN     500000.0    8000000.0  \n9  2017-08-16             NaN     500000.0    8500000.0  \n10 2017-08-16        133900.0          NaN    8366100.0  \n11 2017-08-16         18000.0          NaN    8348100.0  \n12 2017-08-16          5000.0          NaN    8343100.0  \n13 2017-08-16        195800.0          NaN    8147300.0  \n14 2017-08-16         81600.0          NaN    8065700.0  ",
      "text/html": "<div>\n<style scoped>\n    .dataframe tbody tr th:only-of-type {\n        vertical-align: middle;\n    }\n\n    .dataframe tbody tr th {\n        vertical-align: top;\n    }\n\n    .dataframe thead th {\n        text-align: right;\n    }\n</style>\n<table border=\"1\" class=\"dataframe\">\n  <thead>\n    <tr style=\"text-align: right;\">\n      <th></th>\n      <th>account_no</th>\n      <th>dt</th>\n      <th>transaction_details</th>\n      <th>chq_no</th>\n      <th>value_dt</th>\n      <th>withdrawal_amt</th>\n      <th>deposit_amt</th>\n      <th>balance_amt</th>\n    </tr>\n  </thead>\n  <tbody>\n    <tr>\n      <th>0</th>\n      <td>409000611074</td>\n      <td>2017-06-29</td>\n      <td>TRF FROM  Indiaforensic SERVICES</td>\n      <td>NaN</td>\n      <td>2017-06-29</td>\n      <td>NaN</td>\n      <td>1000000.0</td>\n      <td>1000000.0</td>\n    </tr>\n    <tr>\n      <th>1</th>\n      <td>409000611074</td>\n      <td>2017-07-05</td>\n      <td>TRF FROM  Indiaforensic SERVICES</td>\n      <td>NaN</td>\n      <td>2017-07-05</td>\n      <td>NaN</td>\n      <td>1000000.0</td>\n      <td>2000000.0</td>\n    </tr>\n    <tr>\n      <th>2</th>\n      <td>409000611074</td>\n      <td>2017-07-18</td>\n      <td>FDRL/INTERNAL FUND TRANSFE</td>\n      <td>NaN</td>\n      <td>2017-07-18</td>\n      <td>NaN</td>\n      <td>500000.0</td>\n      <td>2500000.0</td>\n    </tr>\n    <tr>\n      <th>3</th>\n      <td>409000611074</td>\n      <td>2017-08-01</td>\n      <td>TRF FRM  Indiaforensic SERVICES</td>\n      <td>NaN</td>\n      <td>2017-08-01</td>\n      <td>NaN</td>\n      <td>3000000.0</td>\n      <td>5500000.0</td>\n    </tr>\n    <tr>\n      <th>4</th>\n      <td>409000611074</td>\n      <td>2017-08-16</td>\n      <td>FDRL/INTERNAL FUND TRANSFE</td>\n      <td>NaN</td>\n      <td>2017-08-16</td>\n      <td>NaN</td>\n      <td>500000.0</td>\n      <td>6000000.0</td>\n    </tr>\n    <tr>\n      <th>5</th>\n      <td>409000611074</td>\n      <td>2017-08-16</td>\n      <td>FDRL/INTERNAL FUND TRANSFE</td>\n      <td>NaN</td>\n      <td>2017-08-16</td>\n      <td>NaN</td>\n      <td>500000.0</td>\n      <td>6500000.0</td>\n    </tr>\n    <tr>\n      <th>6</th>\n      <td>409000611074</td>\n      <td>2017-08-16</td>\n      <td>FDRL/INTERNAL FUND TRANSFE</td>\n      <td>NaN</td>\n      <td>2017-08-16</td>\n      <td>NaN</td>\n      <td>500000.0</td>\n      <td>7000000.0</td>\n    </tr>\n    <tr>\n      <th>7</th>\n      <td>409000611074</td>\n      <td>2017-08-16</td>\n      <td>FDRL/INTERNAL FUND TRANSFE</td>\n      <td>NaN</td>\n      <td>2017-08-16</td>\n      <td>NaN</td>\n      <td>500000.0</td>\n      <td>7500000.0</td>\n    </tr>\n    <tr>\n      <th>8</th>\n      <td>409000611074</td>\n      <td>2017-08-16</td>\n      <td>FDRL/INTERNAL FUND TRANSFE</td>\n      <td>NaN</td>\n      <td>2017-08-16</td>\n      <td>NaN</td>\n      <td>500000.0</td>\n      <td>8000000.0</td>\n    </tr>\n    <tr>\n      <th>9</th>\n      <td>409000611074</td>\n      <td>2017-08-16</td>\n      <td>FDRL/INTERNAL FUND TRANSFE</td>\n      <td>NaN</td>\n      <td>2017-08-16</td>\n      <td>NaN</td>\n      <td>500000.0</td>\n      <td>8500000.0</td>\n    </tr>\n    <tr>\n      <th>10</th>\n      <td>409000611074</td>\n      <td>2017-08-16</td>\n      <td>INDO GIBL Indiaforensic STL01071</td>\n      <td>NaN</td>\n      <td>2017-08-16</td>\n      <td>133900.0</td>\n      <td>NaN</td>\n      <td>8366100.0</td>\n    </tr>\n    <tr>\n      <th>11</th>\n      <td>409000611074</td>\n      <td>2017-08-16</td>\n      <td>INDO GIBL Indiaforensic STL02071</td>\n      <td>NaN</td>\n      <td>2017-08-16</td>\n      <td>18000.0</td>\n      <td>NaN</td>\n      <td>8348100.0</td>\n    </tr>\n    <tr>\n      <th>12</th>\n      <td>409000611074</td>\n      <td>2017-08-16</td>\n      <td>INDO GIBL Indiaforensic STL03071</td>\n      <td>NaN</td>\n      <td>2017-08-16</td>\n      <td>5000.0</td>\n      <td>NaN</td>\n      <td>8343100.0</td>\n    </tr>\n    <tr>\n      <th>13</th>\n      <td>409000611074</td>\n      <td>2017-08-16</td>\n      <td>INDO GIBL Indiaforensic STL04071</td>\n      <td>NaN</td>\n      <td>2017-08-16</td>\n      <td>195800.0</td>\n      <td>NaN</td>\n      <td>8147300.0</td>\n    </tr>\n    <tr>\n      <th>14</th>\n      <td>409000611074</td>\n      <td>2017-08-16</td>\n      <td>INDO GIBL Indiaforensic STL05071</td>\n      <td>NaN</td>\n      <td>2017-08-16</td>\n      <td>81600.0</td>\n      <td>NaN</td>\n      <td>8065700.0</td>\n    </tr>\n  </tbody>\n</table>\n</div>"
     },
     "metadata": {},
     "execution_count": 20
    }
   ],
   "source": [
    "bank_accounts_df.head(15)"
   ]
  },
  {
   "cell_type": "code",
   "execution_count": 21,
   "metadata": {},
   "outputs": [
    {
     "output_type": "stream",
     "name": "stdout",
     "text": "<class 'pandas.core.frame.DataFrame'>\nRangeIndex: 116201 entries, 0 to 116200\nData columns (total 8 columns):\n #   Column               Non-Null Count   Dtype         \n---  ------               --------------   -----         \n 0   account_no           116201 non-null  int64         \n 1   dt                   116201 non-null  datetime64[ns]\n 2   transaction_details  113702 non-null  object        \n 3   chq_no               905 non-null     float64       \n 4   value_dt             116201 non-null  datetime64[ns]\n 5   withdrawal_amt       53549 non-null   float64       \n 6   deposit_amt          62652 non-null   float64       \n 7   balance_amt          116201 non-null  float64       \ndtypes: datetime64[ns](2), float64(4), int64(1), object(1)\nmemory usage: 6.6+ MB\n"
    }
   ],
   "source": [
    "bank_accounts_df.info()"
   ]
  },
  {
   "cell_type": "code",
   "execution_count": 22,
   "metadata": {},
   "outputs": [
    {
     "output_type": "execute_result",
     "data": {
      "text/plain": "          account_no                   dt         transaction_details  \\\ncount   1.162010e+05               116201                      113702   \nunique           NaN                 1294                       43212   \ntop              NaN  2017-07-27 00:00:00  FDRL/INTERNAL FUND TRANSFE   \nfreq             NaN                  567                        8839   \nfirst            NaN  2015-01-01 00:00:00                         NaN   \nlast             NaN  2019-03-05 00:00:00                         NaN   \nmean    2.002261e+11                  NaN                         NaN   \nstd     2.044558e+11                  NaN                         NaN   \nmin     1.196428e+06                  NaN                         NaN   \n25%     1.196428e+06                  NaN                         NaN   \n50%     1.196711e+06                  NaN                         NaN   \n75%     4.090004e+11                  NaN                         NaN   \nmax     4.090006e+11                  NaN                         NaN   \n\n               chq_no             value_dt  withdrawal_amt   deposit_amt  \\\ncount      905.000000               116201    5.354900e+04  6.265200e+04   \nunique            NaN                 1294             NaN           NaN   \ntop               NaN  2017-07-27 00:00:00             NaN           NaN   \nfreq              NaN                  567             NaN           NaN   \nfirst             NaN  2015-01-01 00:00:00             NaN           NaN   \nlast              NaN  2019-03-05 00:00:00             NaN           NaN   \nmean    791614.503867                  NaN    4.489190e+06  3.806586e+06   \nstd     151205.932910                  NaN    1.084850e+07  8.683093e+06   \nmin          1.000000                  NaN    1.000000e-02  1.000000e-02   \n25%     704231.000000                  NaN    3.000000e+03  9.900000e+04   \n50%     873812.000000                  NaN    4.708300e+04  4.265000e+05   \n75%     874167.000000                  NaN    5.000000e+06  4.746411e+06   \nmax     874525.000000                  NaN    4.594475e+08  5.448000e+08   \n\n         balance_amt  \ncount   1.162010e+05  \nunique           NaN  \ntop              NaN  \nfreq             NaN  \nfirst            NaN  \nlast             NaN  \nmean   -1.404852e+09  \nstd     5.348202e+08  \nmin    -2.045201e+09  \n25%    -1.690383e+09  \n50%    -1.661395e+09  \n75%    -1.236888e+09  \nmax     8.500000e+06  ",
      "text/html": "<div>\n<style scoped>\n    .dataframe tbody tr th:only-of-type {\n        vertical-align: middle;\n    }\n\n    .dataframe tbody tr th {\n        vertical-align: top;\n    }\n\n    .dataframe thead th {\n        text-align: right;\n    }\n</style>\n<table border=\"1\" class=\"dataframe\">\n  <thead>\n    <tr style=\"text-align: right;\">\n      <th></th>\n      <th>account_no</th>\n      <th>dt</th>\n      <th>transaction_details</th>\n      <th>chq_no</th>\n      <th>value_dt</th>\n      <th>withdrawal_amt</th>\n      <th>deposit_amt</th>\n      <th>balance_amt</th>\n    </tr>\n  </thead>\n  <tbody>\n    <tr>\n      <th>count</th>\n      <td>1.162010e+05</td>\n      <td>116201</td>\n      <td>113702</td>\n      <td>905.000000</td>\n      <td>116201</td>\n      <td>5.354900e+04</td>\n      <td>6.265200e+04</td>\n      <td>1.162010e+05</td>\n    </tr>\n    <tr>\n      <th>unique</th>\n      <td>NaN</td>\n      <td>1294</td>\n      <td>43212</td>\n      <td>NaN</td>\n      <td>1294</td>\n      <td>NaN</td>\n      <td>NaN</td>\n      <td>NaN</td>\n    </tr>\n    <tr>\n      <th>top</th>\n      <td>NaN</td>\n      <td>2017-07-27 00:00:00</td>\n      <td>FDRL/INTERNAL FUND TRANSFE</td>\n      <td>NaN</td>\n      <td>2017-07-27 00:00:00</td>\n      <td>NaN</td>\n      <td>NaN</td>\n      <td>NaN</td>\n    </tr>\n    <tr>\n      <th>freq</th>\n      <td>NaN</td>\n      <td>567</td>\n      <td>8839</td>\n      <td>NaN</td>\n      <td>567</td>\n      <td>NaN</td>\n      <td>NaN</td>\n      <td>NaN</td>\n    </tr>\n    <tr>\n      <th>first</th>\n      <td>NaN</td>\n      <td>2015-01-01 00:00:00</td>\n      <td>NaN</td>\n      <td>NaN</td>\n      <td>2015-01-01 00:00:00</td>\n      <td>NaN</td>\n      <td>NaN</td>\n      <td>NaN</td>\n    </tr>\n    <tr>\n      <th>last</th>\n      <td>NaN</td>\n      <td>2019-03-05 00:00:00</td>\n      <td>NaN</td>\n      <td>NaN</td>\n      <td>2019-03-05 00:00:00</td>\n      <td>NaN</td>\n      <td>NaN</td>\n      <td>NaN</td>\n    </tr>\n    <tr>\n      <th>mean</th>\n      <td>2.002261e+11</td>\n      <td>NaN</td>\n      <td>NaN</td>\n      <td>791614.503867</td>\n      <td>NaN</td>\n      <td>4.489190e+06</td>\n      <td>3.806586e+06</td>\n      <td>-1.404852e+09</td>\n    </tr>\n    <tr>\n      <th>std</th>\n      <td>2.044558e+11</td>\n      <td>NaN</td>\n      <td>NaN</td>\n      <td>151205.932910</td>\n      <td>NaN</td>\n      <td>1.084850e+07</td>\n      <td>8.683093e+06</td>\n      <td>5.348202e+08</td>\n    </tr>\n    <tr>\n      <th>min</th>\n      <td>1.196428e+06</td>\n      <td>NaN</td>\n      <td>NaN</td>\n      <td>1.000000</td>\n      <td>NaN</td>\n      <td>1.000000e-02</td>\n      <td>1.000000e-02</td>\n      <td>-2.045201e+09</td>\n    </tr>\n    <tr>\n      <th>25%</th>\n      <td>1.196428e+06</td>\n      <td>NaN</td>\n      <td>NaN</td>\n      <td>704231.000000</td>\n      <td>NaN</td>\n      <td>3.000000e+03</td>\n      <td>9.900000e+04</td>\n      <td>-1.690383e+09</td>\n    </tr>\n    <tr>\n      <th>50%</th>\n      <td>1.196711e+06</td>\n      <td>NaN</td>\n      <td>NaN</td>\n      <td>873812.000000</td>\n      <td>NaN</td>\n      <td>4.708300e+04</td>\n      <td>4.265000e+05</td>\n      <td>-1.661395e+09</td>\n    </tr>\n    <tr>\n      <th>75%</th>\n      <td>4.090004e+11</td>\n      <td>NaN</td>\n      <td>NaN</td>\n      <td>874167.000000</td>\n      <td>NaN</td>\n      <td>5.000000e+06</td>\n      <td>4.746411e+06</td>\n      <td>-1.236888e+09</td>\n    </tr>\n    <tr>\n      <th>max</th>\n      <td>4.090006e+11</td>\n      <td>NaN</td>\n      <td>NaN</td>\n      <td>874525.000000</td>\n      <td>NaN</td>\n      <td>4.594475e+08</td>\n      <td>5.448000e+08</td>\n      <td>8.500000e+06</td>\n    </tr>\n  </tbody>\n</table>\n</div>"
     },
     "metadata": {},
     "execution_count": 22
    }
   ],
   "source": [
    "bank_accounts_df.describe(include = 'all')"
   ]
  },
  {
   "cell_type": "code",
   "execution_count": 23,
   "metadata": {},
   "outputs": [
    {
     "output_type": "execute_result",
     "data": {
      "text/plain": "account_no                  0\ndt                          0\ntransaction_details      2499\nchq_no                 115296\nvalue_dt                    0\nwithdrawal_amt          62652\ndeposit_amt             53549\nbalance_amt                 0\ndtype: int64"
     },
     "metadata": {},
     "execution_count": 23
    }
   ],
   "source": [
    "bank_accounts_df.isnull().sum()"
   ]
  },
  {
   "cell_type": "markdown",
   "metadata": {},
   "source": [
    "# Checking Presto table"
   ]
  },
  {
   "cell_type": "code",
   "execution_count": 24,
   "metadata": {},
   "outputs": [
    {
     "output_type": "execute_result",
     "data": {
      "text/plain": "'Connected: admin@postgresql'"
     },
     "metadata": {},
     "execution_count": 24
    }
   ],
   "source": [
    "%sql presto://admin@192.168.12.3:8080/postgresql"
   ]
  },
  {
   "cell_type": "code",
   "execution_count": 25,
   "metadata": {
    "tags": [
     "outputPrepend"
    ]
   },
   "outputs": [
    {
     "output_type": "stream",
     "name": "stdout",
     "text": "clickhouse://test_user@192.168.12.3:8123/default\n * presto://admin@192.168.12.3:8080/postgresql\nDone.\n"
    }
   ],
   "source": [
    "presto_bank_accounts_result = %sql select * from public.bank_accounts\n",
    "\n",
    "presto_bank_accounts_df = pd.DataFrame.from_dict(\n",
    "    presto_bank_accounts_result.dict()\n",
    ")\n",
    "presto_bank_accounts_df['dt'] = pd.to_datetime(presto_bank_accounts_df['dt'], format='%Y-%m-%d')\n",
    "presto_bank_accounts_df['value_dt'] = pd.to_datetime(presto_bank_accounts_df['value_dt'], format='%Y-%m-%d')"
   ]
  },
  {
   "cell_type": "code",
   "execution_count": 26,
   "metadata": {},
   "outputs": [
    {
     "output_type": "execute_result",
     "data": {
      "text/plain": "      account_no         dt               transaction_details  chq_no  \\\n0   409000611074 2017-06-29  TRF FROM  Indiaforensic SERVICES     NaN   \n1   409000611074 2017-07-05  TRF FROM  Indiaforensic SERVICES     NaN   \n2   409000611074 2017-07-18        FDRL/INTERNAL FUND TRANSFE     NaN   \n3   409000611074 2017-08-01   TRF FRM  Indiaforensic SERVICES     NaN   \n4   409000611074 2017-08-16        FDRL/INTERNAL FUND TRANSFE     NaN   \n5   409000611074 2017-08-16        FDRL/INTERNAL FUND TRANSFE     NaN   \n6   409000611074 2017-08-16        FDRL/INTERNAL FUND TRANSFE     NaN   \n7   409000611074 2017-08-16        FDRL/INTERNAL FUND TRANSFE     NaN   \n8   409000611074 2017-08-16        FDRL/INTERNAL FUND TRANSFE     NaN   \n9   409000611074 2017-08-16        FDRL/INTERNAL FUND TRANSFE     NaN   \n10  409000611074 2017-08-16  INDO GIBL Indiaforensic STL01071     NaN   \n11  409000611074 2017-08-16  INDO GIBL Indiaforensic STL02071     NaN   \n12  409000611074 2017-08-16  INDO GIBL Indiaforensic STL03071     NaN   \n13  409000611074 2017-08-16  INDO GIBL Indiaforensic STL04071     NaN   \n14  409000611074 2017-08-16  INDO GIBL Indiaforensic STL05071     NaN   \n\n     value_dt  withdrawal_amt  deposit_amt  balance_amt  \n0  2017-06-29             NaN  100000000.0  100000000.0  \n1  2017-07-05             NaN  100000000.0  200000000.0  \n2  2017-07-18             NaN   50000000.0  250000000.0  \n3  2017-08-01             NaN  300000000.0  550000000.0  \n4  2017-08-16             NaN   50000000.0  600000000.0  \n5  2017-08-16             NaN   50000000.0  650000000.0  \n6  2017-08-16             NaN   50000000.0  700000000.0  \n7  2017-08-16             NaN   50000000.0  750000000.0  \n8  2017-08-16             NaN   50000000.0  800000000.0  \n9  2017-08-16             NaN   50000000.0  850000000.0  \n10 2017-08-16      13390000.0          NaN  836610000.0  \n11 2017-08-16       1800000.0          NaN  834810000.0  \n12 2017-08-16        500000.0          NaN  834310000.0  \n13 2017-08-16      19580000.0          NaN  814730000.0  \n14 2017-08-16       8160000.0          NaN  806570000.0  ",
      "text/html": "<div>\n<style scoped>\n    .dataframe tbody tr th:only-of-type {\n        vertical-align: middle;\n    }\n\n    .dataframe tbody tr th {\n        vertical-align: top;\n    }\n\n    .dataframe thead th {\n        text-align: right;\n    }\n</style>\n<table border=\"1\" class=\"dataframe\">\n  <thead>\n    <tr style=\"text-align: right;\">\n      <th></th>\n      <th>account_no</th>\n      <th>dt</th>\n      <th>transaction_details</th>\n      <th>chq_no</th>\n      <th>value_dt</th>\n      <th>withdrawal_amt</th>\n      <th>deposit_amt</th>\n      <th>balance_amt</th>\n    </tr>\n  </thead>\n  <tbody>\n    <tr>\n      <th>0</th>\n      <td>409000611074</td>\n      <td>2017-06-29</td>\n      <td>TRF FROM  Indiaforensic SERVICES</td>\n      <td>NaN</td>\n      <td>2017-06-29</td>\n      <td>NaN</td>\n      <td>100000000.0</td>\n      <td>100000000.0</td>\n    </tr>\n    <tr>\n      <th>1</th>\n      <td>409000611074</td>\n      <td>2017-07-05</td>\n      <td>TRF FROM  Indiaforensic SERVICES</td>\n      <td>NaN</td>\n      <td>2017-07-05</td>\n      <td>NaN</td>\n      <td>100000000.0</td>\n      <td>200000000.0</td>\n    </tr>\n    <tr>\n      <th>2</th>\n      <td>409000611074</td>\n      <td>2017-07-18</td>\n      <td>FDRL/INTERNAL FUND TRANSFE</td>\n      <td>NaN</td>\n      <td>2017-07-18</td>\n      <td>NaN</td>\n      <td>50000000.0</td>\n      <td>250000000.0</td>\n    </tr>\n    <tr>\n      <th>3</th>\n      <td>409000611074</td>\n      <td>2017-08-01</td>\n      <td>TRF FRM  Indiaforensic SERVICES</td>\n      <td>NaN</td>\n      <td>2017-08-01</td>\n      <td>NaN</td>\n      <td>300000000.0</td>\n      <td>550000000.0</td>\n    </tr>\n    <tr>\n      <th>4</th>\n      <td>409000611074</td>\n      <td>2017-08-16</td>\n      <td>FDRL/INTERNAL FUND TRANSFE</td>\n      <td>NaN</td>\n      <td>2017-08-16</td>\n      <td>NaN</td>\n      <td>50000000.0</td>\n      <td>600000000.0</td>\n    </tr>\n    <tr>\n      <th>5</th>\n      <td>409000611074</td>\n      <td>2017-08-16</td>\n      <td>FDRL/INTERNAL FUND TRANSFE</td>\n      <td>NaN</td>\n      <td>2017-08-16</td>\n      <td>NaN</td>\n      <td>50000000.0</td>\n      <td>650000000.0</td>\n    </tr>\n    <tr>\n      <th>6</th>\n      <td>409000611074</td>\n      <td>2017-08-16</td>\n      <td>FDRL/INTERNAL FUND TRANSFE</td>\n      <td>NaN</td>\n      <td>2017-08-16</td>\n      <td>NaN</td>\n      <td>50000000.0</td>\n      <td>700000000.0</td>\n    </tr>\n    <tr>\n      <th>7</th>\n      <td>409000611074</td>\n      <td>2017-08-16</td>\n      <td>FDRL/INTERNAL FUND TRANSFE</td>\n      <td>NaN</td>\n      <td>2017-08-16</td>\n      <td>NaN</td>\n      <td>50000000.0</td>\n      <td>750000000.0</td>\n    </tr>\n    <tr>\n      <th>8</th>\n      <td>409000611074</td>\n      <td>2017-08-16</td>\n      <td>FDRL/INTERNAL FUND TRANSFE</td>\n      <td>NaN</td>\n      <td>2017-08-16</td>\n      <td>NaN</td>\n      <td>50000000.0</td>\n      <td>800000000.0</td>\n    </tr>\n    <tr>\n      <th>9</th>\n      <td>409000611074</td>\n      <td>2017-08-16</td>\n      <td>FDRL/INTERNAL FUND TRANSFE</td>\n      <td>NaN</td>\n      <td>2017-08-16</td>\n      <td>NaN</td>\n      <td>50000000.0</td>\n      <td>850000000.0</td>\n    </tr>\n    <tr>\n      <th>10</th>\n      <td>409000611074</td>\n      <td>2017-08-16</td>\n      <td>INDO GIBL Indiaforensic STL01071</td>\n      <td>NaN</td>\n      <td>2017-08-16</td>\n      <td>13390000.0</td>\n      <td>NaN</td>\n      <td>836610000.0</td>\n    </tr>\n    <tr>\n      <th>11</th>\n      <td>409000611074</td>\n      <td>2017-08-16</td>\n      <td>INDO GIBL Indiaforensic STL02071</td>\n      <td>NaN</td>\n      <td>2017-08-16</td>\n      <td>1800000.0</td>\n      <td>NaN</td>\n      <td>834810000.0</td>\n    </tr>\n    <tr>\n      <th>12</th>\n      <td>409000611074</td>\n      <td>2017-08-16</td>\n      <td>INDO GIBL Indiaforensic STL03071</td>\n      <td>NaN</td>\n      <td>2017-08-16</td>\n      <td>500000.0</td>\n      <td>NaN</td>\n      <td>834310000.0</td>\n    </tr>\n    <tr>\n      <th>13</th>\n      <td>409000611074</td>\n      <td>2017-08-16</td>\n      <td>INDO GIBL Indiaforensic STL04071</td>\n      <td>NaN</td>\n      <td>2017-08-16</td>\n      <td>19580000.0</td>\n      <td>NaN</td>\n      <td>814730000.0</td>\n    </tr>\n    <tr>\n      <th>14</th>\n      <td>409000611074</td>\n      <td>2017-08-16</td>\n      <td>INDO GIBL Indiaforensic STL05071</td>\n      <td>NaN</td>\n      <td>2017-08-16</td>\n      <td>8160000.0</td>\n      <td>NaN</td>\n      <td>806570000.0</td>\n    </tr>\n  </tbody>\n</table>\n</div>"
     },
     "metadata": {},
     "execution_count": 26
    }
   ],
   "source": [
    "presto_bank_accounts_df.head(15)"
   ]
  },
  {
   "cell_type": "code",
   "execution_count": 27,
   "metadata": {},
   "outputs": [
    {
     "output_type": "stream",
     "name": "stdout",
     "text": "<class 'pandas.core.frame.DataFrame'>\nRangeIndex: 116201 entries, 0 to 116200\nData columns (total 8 columns):\n #   Column               Non-Null Count   Dtype         \n---  ------               --------------   -----         \n 0   account_no           116201 non-null  int64         \n 1   dt                   116201 non-null  datetime64[ns]\n 2   transaction_details  113702 non-null  object        \n 3   chq_no               905 non-null     float64       \n 4   value_dt             116201 non-null  datetime64[ns]\n 5   withdrawal_amt       53549 non-null   float64       \n 6   deposit_amt          62652 non-null   float64       \n 7   balance_amt          116201 non-null  float64       \ndtypes: datetime64[ns](2), float64(4), int64(1), object(1)\nmemory usage: 6.6+ MB\n"
    }
   ],
   "source": [
    "presto_bank_accounts_df.info()"
   ]
  },
  {
   "cell_type": "code",
   "execution_count": 28,
   "metadata": {},
   "outputs": [
    {
     "output_type": "execute_result",
     "data": {
      "text/plain": "          account_no                   dt         transaction_details  \\\ncount   1.162010e+05               116201                      113702   \nunique           NaN                 1294                       43212   \ntop              NaN  2017-07-27 00:00:00  FDRL/INTERNAL FUND TRANSFE   \nfreq             NaN                  567                        8839   \nfirst            NaN  2015-01-01 00:00:00                         NaN   \nlast             NaN  2019-03-05 00:00:00                         NaN   \nmean    2.002261e+11                  NaN                         NaN   \nstd     2.044558e+11                  NaN                         NaN   \nmin     1.196428e+06                  NaN                         NaN   \n25%     1.196428e+06                  NaN                         NaN   \n50%     1.196711e+06                  NaN                         NaN   \n75%     4.090004e+11                  NaN                         NaN   \nmax     4.090006e+11                  NaN                         NaN   \n\n               chq_no             value_dt  withdrawal_amt   deposit_amt  \\\ncount      905.000000               116201    5.354900e+04  6.265200e+04   \nunique            NaN                 1294             NaN           NaN   \ntop               NaN  2017-07-27 00:00:00             NaN           NaN   \nfreq              NaN                  567             NaN           NaN   \nfirst             NaN  2015-01-01 00:00:00             NaN           NaN   \nlast              NaN  2019-03-05 00:00:00             NaN           NaN   \nmean    791614.503867                  NaN    4.489190e+08  3.806586e+08   \nstd     151205.932910                  NaN    1.084850e+09  8.683093e+08   \nmin          1.000000                  NaN    1.000000e+00  1.000000e+00   \n25%     704231.000000                  NaN    3.000000e+05  9.900000e+06   \n50%     873812.000000                  NaN    4.708300e+06  4.265000e+07   \n75%     874167.000000                  NaN    5.000000e+08  4.746411e+08   \nmax     874525.000000                  NaN    4.594475e+10  5.448000e+10   \n\n         balance_amt  \ncount   1.162010e+05  \nunique           NaN  \ntop              NaN  \nfreq             NaN  \nfirst            NaN  \nlast             NaN  \nmean   -1.404852e+11  \nstd     5.348202e+10  \nmin    -2.045201e+11  \n25%    -1.690383e+11  \n50%    -1.661395e+11  \n75%    -1.236888e+11  \nmax     8.500000e+08  ",
      "text/html": "<div>\n<style scoped>\n    .dataframe tbody tr th:only-of-type {\n        vertical-align: middle;\n    }\n\n    .dataframe tbody tr th {\n        vertical-align: top;\n    }\n\n    .dataframe thead th {\n        text-align: right;\n    }\n</style>\n<table border=\"1\" class=\"dataframe\">\n  <thead>\n    <tr style=\"text-align: right;\">\n      <th></th>\n      <th>account_no</th>\n      <th>dt</th>\n      <th>transaction_details</th>\n      <th>chq_no</th>\n      <th>value_dt</th>\n      <th>withdrawal_amt</th>\n      <th>deposit_amt</th>\n      <th>balance_amt</th>\n    </tr>\n  </thead>\n  <tbody>\n    <tr>\n      <th>count</th>\n      <td>1.162010e+05</td>\n      <td>116201</td>\n      <td>113702</td>\n      <td>905.000000</td>\n      <td>116201</td>\n      <td>5.354900e+04</td>\n      <td>6.265200e+04</td>\n      <td>1.162010e+05</td>\n    </tr>\n    <tr>\n      <th>unique</th>\n      <td>NaN</td>\n      <td>1294</td>\n      <td>43212</td>\n      <td>NaN</td>\n      <td>1294</td>\n      <td>NaN</td>\n      <td>NaN</td>\n      <td>NaN</td>\n    </tr>\n    <tr>\n      <th>top</th>\n      <td>NaN</td>\n      <td>2017-07-27 00:00:00</td>\n      <td>FDRL/INTERNAL FUND TRANSFE</td>\n      <td>NaN</td>\n      <td>2017-07-27 00:00:00</td>\n      <td>NaN</td>\n      <td>NaN</td>\n      <td>NaN</td>\n    </tr>\n    <tr>\n      <th>freq</th>\n      <td>NaN</td>\n      <td>567</td>\n      <td>8839</td>\n      <td>NaN</td>\n      <td>567</td>\n      <td>NaN</td>\n      <td>NaN</td>\n      <td>NaN</td>\n    </tr>\n    <tr>\n      <th>first</th>\n      <td>NaN</td>\n      <td>2015-01-01 00:00:00</td>\n      <td>NaN</td>\n      <td>NaN</td>\n      <td>2015-01-01 00:00:00</td>\n      <td>NaN</td>\n      <td>NaN</td>\n      <td>NaN</td>\n    </tr>\n    <tr>\n      <th>last</th>\n      <td>NaN</td>\n      <td>2019-03-05 00:00:00</td>\n      <td>NaN</td>\n      <td>NaN</td>\n      <td>2019-03-05 00:00:00</td>\n      <td>NaN</td>\n      <td>NaN</td>\n      <td>NaN</td>\n    </tr>\n    <tr>\n      <th>mean</th>\n      <td>2.002261e+11</td>\n      <td>NaN</td>\n      <td>NaN</td>\n      <td>791614.503867</td>\n      <td>NaN</td>\n      <td>4.489190e+08</td>\n      <td>3.806586e+08</td>\n      <td>-1.404852e+11</td>\n    </tr>\n    <tr>\n      <th>std</th>\n      <td>2.044558e+11</td>\n      <td>NaN</td>\n      <td>NaN</td>\n      <td>151205.932910</td>\n      <td>NaN</td>\n      <td>1.084850e+09</td>\n      <td>8.683093e+08</td>\n      <td>5.348202e+10</td>\n    </tr>\n    <tr>\n      <th>min</th>\n      <td>1.196428e+06</td>\n      <td>NaN</td>\n      <td>NaN</td>\n      <td>1.000000</td>\n      <td>NaN</td>\n      <td>1.000000e+00</td>\n      <td>1.000000e+00</td>\n      <td>-2.045201e+11</td>\n    </tr>\n    <tr>\n      <th>25%</th>\n      <td>1.196428e+06</td>\n      <td>NaN</td>\n      <td>NaN</td>\n      <td>704231.000000</td>\n      <td>NaN</td>\n      <td>3.000000e+05</td>\n      <td>9.900000e+06</td>\n      <td>-1.690383e+11</td>\n    </tr>\n    <tr>\n      <th>50%</th>\n      <td>1.196711e+06</td>\n      <td>NaN</td>\n      <td>NaN</td>\n      <td>873812.000000</td>\n      <td>NaN</td>\n      <td>4.708300e+06</td>\n      <td>4.265000e+07</td>\n      <td>-1.661395e+11</td>\n    </tr>\n    <tr>\n      <th>75%</th>\n      <td>4.090004e+11</td>\n      <td>NaN</td>\n      <td>NaN</td>\n      <td>874167.000000</td>\n      <td>NaN</td>\n      <td>5.000000e+08</td>\n      <td>4.746411e+08</td>\n      <td>-1.236888e+11</td>\n    </tr>\n    <tr>\n      <th>max</th>\n      <td>4.090006e+11</td>\n      <td>NaN</td>\n      <td>NaN</td>\n      <td>874525.000000</td>\n      <td>NaN</td>\n      <td>4.594475e+10</td>\n      <td>5.448000e+10</td>\n      <td>8.500000e+08</td>\n    </tr>\n  </tbody>\n</table>\n</div>"
     },
     "metadata": {},
     "execution_count": 28
    }
   ],
   "source": [
    "presto_bank_accounts_df.describe(include = 'all')"
   ]
  },
  {
   "cell_type": "code",
   "execution_count": 29,
   "metadata": {},
   "outputs": [
    {
     "output_type": "execute_result",
     "data": {
      "text/plain": "account_no                  0\ndt                          0\ntransaction_details      2499\nchq_no                 115296\nvalue_dt                    0\nwithdrawal_amt          62652\ndeposit_amt             53549\nbalance_amt                 0\ndtype: int64"
     },
     "metadata": {},
     "execution_count": 29
    }
   ],
   "source": [
    "presto_bank_accounts_df.isnull().sum()"
   ]
  },
  {
   "cell_type": "markdown",
   "metadata": {},
   "source": [
    "# Checking Clickhouse table"
   ]
  },
  {
   "cell_type": "code",
   "execution_count": 30,
   "metadata": {},
   "outputs": [
    {
     "output_type": "execute_result",
     "data": {
      "text/plain": "'Connected: test_user@default'"
     },
     "metadata": {},
     "execution_count": 30
    }
   ],
   "source": [
    "%sql clickhouse://test_user@192.168.12.3:8123/default"
   ]
  },
  {
   "cell_type": "code",
   "execution_count": 31,
   "metadata": {},
   "outputs": [
    {
     "output_type": "stream",
     "name": "stdout",
     "text": "* clickhouse://test_user@192.168.12.3:8123/default\n   presto://admin@192.168.12.3:8080/postgresql\nDone.\n"
    }
   ],
   "source": [
    "clickhouse_bank_accounts_result = %sql select * from default.bank_accounts\n",
    "\n",
    "clickhouse_bank_accounts_df = pd.DataFrame.from_dict(\n",
    "    clickhouse_bank_accounts_result.dict()\n",
    ")\n",
    "clickhouse_bank_accounts_df['dt'] = pd.to_datetime(clickhouse_bank_accounts_df['dt'], format='%Y-%m-%d')\n",
    "clickhouse_bank_accounts_df['value_dt'] = pd.to_datetime(clickhouse_bank_accounts_df['value_dt'], format='%Y-%m-%d')"
   ]
  },
  {
   "cell_type": "code",
   "execution_count": 32,
   "metadata": {},
   "outputs": [
    {
     "output_type": "execute_result",
     "data": {
      "text/plain": "    account_no         dt                                transaction_details  \\\n0      1196428 2017-05-17  CASHDEP/VIKASMARG/TP\u0000\u0000\u0000\u0000\u0000\u0000\u0000\u0000\u0000\u0000\u0000\u0000\u0000\u0000\u0000\u0000\u0000\u0000\u0000\u0000\u0000\u0000\u0000\u0000\u0000\u0000...   \n1      1196428 2017-05-17  Indiaforensic SERVICES INDIA PVT\u0000\u0000\u0000\u0000\u0000\u0000\u0000\u0000\u0000\u0000\u0000\u0000\u0000\u0000...   \n2      1196428 2017-05-17  NEFT/KKBK171376096234/Acc\u0000\u0000\u0000\u0000\u0000\u0000\u0000\u0000\u0000\u0000\u0000\u0000\u0000\u0000\u0000\u0000\u0000\u0000\u0000\u0000\u0000...   \n3      1196428 2017-05-17  FDRL/INTERNAL FUND TRANSFE\u0000\u0000\u0000\u0000\u0000\u0000\u0000\u0000\u0000\u0000\u0000\u0000\u0000\u0000\u0000\u0000\u0000\u0000\u0000\u0000...   \n4      1196428 2017-05-17  NEFT/CITIN17780139670/PAY\u0000\u0000\u0000\u0000\u0000\u0000\u0000\u0000\u0000\u0000\u0000\u0000\u0000\u0000\u0000\u0000\u0000\u0000\u0000\u0000\u0000...   \n5      1196428 2017-05-17  CASHDEP/HAUS KHAS/\u0000\u0000\u0000\u0000\u0000\u0000\u0000\u0000\u0000\u0000\u0000\u0000\u0000\u0000\u0000\u0000\u0000\u0000\u0000\u0000\u0000\u0000\u0000\u0000\u0000\u0000\u0000\u0000...   \n6      1196428 2017-05-17  FIXED  MOBILE PTE LTD/USD\u0000\u0000\u0000\u0000\u0000\u0000\u0000\u0000\u0000\u0000\u0000\u0000\u0000\u0000\u0000\u0000\u0000\u0000\u0000\u0000\u0000...   \n7      1196428 2017-05-17  IRTT00701712003\u0000\u0000\u0000\u0000\u0000\u0000\u0000\u0000\u0000\u0000\u0000\u0000\u0000\u0000\u0000\u0000\u0000\u0000\u0000\u0000\u0000\u0000\u0000\u0000\u0000\u0000\u0000\u0000\u0000\u0000\u0000...   \n8      1196428 2017-05-17  BEAT CSH PKP DEL GURG 158\u0000\u0000\u0000\u0000\u0000\u0000\u0000\u0000\u0000\u0000\u0000\u0000\u0000\u0000\u0000\u0000\u0000\u0000\u0000\u0000\u0000...   \n9      1196428 2017-05-18  IB:TPFT000037816551409000\u0000\u0000\u0000\u0000\u0000\u0000\u0000\u0000\u0000\u0000\u0000\u0000\u0000\u0000\u0000\u0000\u0000\u0000\u0000\u0000\u0000...   \n10     1196428 2017-05-18  7,14E+11\u0000\u0000\u0000\u0000\u0000\u0000\u0000\u0000\u0000\u0000\u0000\u0000\u0000\u0000\u0000\u0000\u0000\u0000\u0000\u0000\u0000\u0000\u0000\u0000\u0000\u0000\u0000\u0000\u0000\u0000\u0000\u0000\u0000\u0000\u0000\u0000\u0000\u0000...   \n11     1196428 2017-05-18  CASHDEP/FARIDABAD/TP\u0000\u0000\u0000\u0000\u0000\u0000\u0000\u0000\u0000\u0000\u0000\u0000\u0000\u0000\u0000\u0000\u0000\u0000\u0000\u0000\u0000\u0000\u0000\u0000\u0000\u0000...   \n12     1196428 2017-05-18  RTGS/BARBH17138983819/MAK\u0000\u0000\u0000\u0000\u0000\u0000\u0000\u0000\u0000\u0000\u0000\u0000\u0000\u0000\u0000\u0000\u0000\u0000\u0000\u0000\u0000...   \n13     1196428 2017-05-18  7,14E+11\u0000\u0000\u0000\u0000\u0000\u0000\u0000\u0000\u0000\u0000\u0000\u0000\u0000\u0000\u0000\u0000\u0000\u0000\u0000\u0000\u0000\u0000\u0000\u0000\u0000\u0000\u0000\u0000\u0000\u0000\u0000\u0000\u0000\u0000\u0000\u0000\u0000\u0000...   \n14     1196428 2017-05-18  CASHDEP/RAJOURI/\u0000\u0000\u0000\u0000\u0000\u0000\u0000\u0000\u0000\u0000\u0000\u0000\u0000\u0000\u0000\u0000\u0000\u0000\u0000\u0000\u0000\u0000\u0000\u0000\u0000\u0000\u0000\u0000\u0000\u0000...   \n\n    chq_no   value_dt  withdrawal_amt  deposit_amt   balance_amt  \n0      NaN 2017-05-17             NaN    2700000.0 -1.686257e+11  \n1      NaN 2017-05-17             NaN  100883624.0 -1.685248e+11  \n2      NaN 2017-05-17             NaN  900000000.0 -1.676248e+11  \n3      NaN 2017-05-17    1.000000e+09          NaN -1.686248e+11  \n4      NaN 2017-05-17             NaN  538394500.0 -1.680864e+11  \n5      NaN 2017-05-17             NaN    4050000.0 -1.680823e+11  \n6      NaN 2017-05-17             NaN  127496500.0 -1.679548e+11  \n7      NaN 2017-05-17    1.153740e+05          NaN -1.679550e+11  \n8      NaN 2017-05-17             NaN   34050000.0 -1.679209e+11  \n9      NaN 2017-05-18             NaN    6000000.0 -1.679149e+11  \n10     NaN 2017-05-18             NaN    2500000.0 -1.679124e+11  \n11     NaN 2017-05-18             NaN   10000000.0 -1.679024e+11  \n12     NaN 2017-05-18             NaN   26055000.0 -1.678764e+11  \n13     NaN 2017-05-18             NaN    4000000.0 -1.678724e+11  \n14     NaN 2017-05-18             NaN    3400000.0 -1.678690e+11  ",
      "text/html": "<div>\n<style scoped>\n    .dataframe tbody tr th:only-of-type {\n        vertical-align: middle;\n    }\n\n    .dataframe tbody tr th {\n        vertical-align: top;\n    }\n\n    .dataframe thead th {\n        text-align: right;\n    }\n</style>\n<table border=\"1\" class=\"dataframe\">\n  <thead>\n    <tr style=\"text-align: right;\">\n      <th></th>\n      <th>account_no</th>\n      <th>dt</th>\n      <th>transaction_details</th>\n      <th>chq_no</th>\n      <th>value_dt</th>\n      <th>withdrawal_amt</th>\n      <th>deposit_amt</th>\n      <th>balance_amt</th>\n    </tr>\n  </thead>\n  <tbody>\n    <tr>\n      <th>0</th>\n      <td>1196428</td>\n      <td>2017-05-17</td>\n      <td>CASHDEP/VIKASMARG/TP\u0000\u0000\u0000\u0000\u0000\u0000\u0000\u0000\u0000\u0000\u0000\u0000\u0000\u0000\u0000\u0000\u0000\u0000\u0000\u0000\u0000\u0000\u0000\u0000\u0000\u0000...</td>\n      <td>NaN</td>\n      <td>2017-05-17</td>\n      <td>NaN</td>\n      <td>2700000.0</td>\n      <td>-1.686257e+11</td>\n    </tr>\n    <tr>\n      <th>1</th>\n      <td>1196428</td>\n      <td>2017-05-17</td>\n      <td>Indiaforensic SERVICES INDIA PVT\u0000\u0000\u0000\u0000\u0000\u0000\u0000\u0000\u0000\u0000\u0000\u0000\u0000\u0000...</td>\n      <td>NaN</td>\n      <td>2017-05-17</td>\n      <td>NaN</td>\n      <td>100883624.0</td>\n      <td>-1.685248e+11</td>\n    </tr>\n    <tr>\n      <th>2</th>\n      <td>1196428</td>\n      <td>2017-05-17</td>\n      <td>NEFT/KKBK171376096234/Acc\u0000\u0000\u0000\u0000\u0000\u0000\u0000\u0000\u0000\u0000\u0000\u0000\u0000\u0000\u0000\u0000\u0000\u0000\u0000\u0000\u0000...</td>\n      <td>NaN</td>\n      <td>2017-05-17</td>\n      <td>NaN</td>\n      <td>900000000.0</td>\n      <td>-1.676248e+11</td>\n    </tr>\n    <tr>\n      <th>3</th>\n      <td>1196428</td>\n      <td>2017-05-17</td>\n      <td>FDRL/INTERNAL FUND TRANSFE\u0000\u0000\u0000\u0000\u0000\u0000\u0000\u0000\u0000\u0000\u0000\u0000\u0000\u0000\u0000\u0000\u0000\u0000\u0000\u0000...</td>\n      <td>NaN</td>\n      <td>2017-05-17</td>\n      <td>1.000000e+09</td>\n      <td>NaN</td>\n      <td>-1.686248e+11</td>\n    </tr>\n    <tr>\n      <th>4</th>\n      <td>1196428</td>\n      <td>2017-05-17</td>\n      <td>NEFT/CITIN17780139670/PAY\u0000\u0000\u0000\u0000\u0000\u0000\u0000\u0000\u0000\u0000\u0000\u0000\u0000\u0000\u0000\u0000\u0000\u0000\u0000\u0000\u0000...</td>\n      <td>NaN</td>\n      <td>2017-05-17</td>\n      <td>NaN</td>\n      <td>538394500.0</td>\n      <td>-1.680864e+11</td>\n    </tr>\n    <tr>\n      <th>5</th>\n      <td>1196428</td>\n      <td>2017-05-17</td>\n      <td>CASHDEP/HAUS KHAS/\u0000\u0000\u0000\u0000\u0000\u0000\u0000\u0000\u0000\u0000\u0000\u0000\u0000\u0000\u0000\u0000\u0000\u0000\u0000\u0000\u0000\u0000\u0000\u0000\u0000\u0000\u0000\u0000...</td>\n      <td>NaN</td>\n      <td>2017-05-17</td>\n      <td>NaN</td>\n      <td>4050000.0</td>\n      <td>-1.680823e+11</td>\n    </tr>\n    <tr>\n      <th>6</th>\n      <td>1196428</td>\n      <td>2017-05-17</td>\n      <td>FIXED  MOBILE PTE LTD/USD\u0000\u0000\u0000\u0000\u0000\u0000\u0000\u0000\u0000\u0000\u0000\u0000\u0000\u0000\u0000\u0000\u0000\u0000\u0000\u0000\u0000...</td>\n      <td>NaN</td>\n      <td>2017-05-17</td>\n      <td>NaN</td>\n      <td>127496500.0</td>\n      <td>-1.679548e+11</td>\n    </tr>\n    <tr>\n      <th>7</th>\n      <td>1196428</td>\n      <td>2017-05-17</td>\n      <td>IRTT00701712003\u0000\u0000\u0000\u0000\u0000\u0000\u0000\u0000\u0000\u0000\u0000\u0000\u0000\u0000\u0000\u0000\u0000\u0000\u0000\u0000\u0000\u0000\u0000\u0000\u0000\u0000\u0000\u0000\u0000\u0000\u0000...</td>\n      <td>NaN</td>\n      <td>2017-05-17</td>\n      <td>1.153740e+05</td>\n      <td>NaN</td>\n      <td>-1.679550e+11</td>\n    </tr>\n    <tr>\n      <th>8</th>\n      <td>1196428</td>\n      <td>2017-05-17</td>\n      <td>BEAT CSH PKP DEL GURG 158\u0000\u0000\u0000\u0000\u0000\u0000\u0000\u0000\u0000\u0000\u0000\u0000\u0000\u0000\u0000\u0000\u0000\u0000\u0000\u0000\u0000...</td>\n      <td>NaN</td>\n      <td>2017-05-17</td>\n      <td>NaN</td>\n      <td>34050000.0</td>\n      <td>-1.679209e+11</td>\n    </tr>\n    <tr>\n      <th>9</th>\n      <td>1196428</td>\n      <td>2017-05-18</td>\n      <td>IB:TPFT000037816551409000\u0000\u0000\u0000\u0000\u0000\u0000\u0000\u0000\u0000\u0000\u0000\u0000\u0000\u0000\u0000\u0000\u0000\u0000\u0000\u0000\u0000...</td>\n      <td>NaN</td>\n      <td>2017-05-18</td>\n      <td>NaN</td>\n      <td>6000000.0</td>\n      <td>-1.679149e+11</td>\n    </tr>\n    <tr>\n      <th>10</th>\n      <td>1196428</td>\n      <td>2017-05-18</td>\n      <td>7,14E+11\u0000\u0000\u0000\u0000\u0000\u0000\u0000\u0000\u0000\u0000\u0000\u0000\u0000\u0000\u0000\u0000\u0000\u0000\u0000\u0000\u0000\u0000\u0000\u0000\u0000\u0000\u0000\u0000\u0000\u0000\u0000\u0000\u0000\u0000\u0000\u0000\u0000\u0000...</td>\n      <td>NaN</td>\n      <td>2017-05-18</td>\n      <td>NaN</td>\n      <td>2500000.0</td>\n      <td>-1.679124e+11</td>\n    </tr>\n    <tr>\n      <th>11</th>\n      <td>1196428</td>\n      <td>2017-05-18</td>\n      <td>CASHDEP/FARIDABAD/TP\u0000\u0000\u0000\u0000\u0000\u0000\u0000\u0000\u0000\u0000\u0000\u0000\u0000\u0000\u0000\u0000\u0000\u0000\u0000\u0000\u0000\u0000\u0000\u0000\u0000\u0000...</td>\n      <td>NaN</td>\n      <td>2017-05-18</td>\n      <td>NaN</td>\n      <td>10000000.0</td>\n      <td>-1.679024e+11</td>\n    </tr>\n    <tr>\n      <th>12</th>\n      <td>1196428</td>\n      <td>2017-05-18</td>\n      <td>RTGS/BARBH17138983819/MAK\u0000\u0000\u0000\u0000\u0000\u0000\u0000\u0000\u0000\u0000\u0000\u0000\u0000\u0000\u0000\u0000\u0000\u0000\u0000\u0000\u0000...</td>\n      <td>NaN</td>\n      <td>2017-05-18</td>\n      <td>NaN</td>\n      <td>26055000.0</td>\n      <td>-1.678764e+11</td>\n    </tr>\n    <tr>\n      <th>13</th>\n      <td>1196428</td>\n      <td>2017-05-18</td>\n      <td>7,14E+11\u0000\u0000\u0000\u0000\u0000\u0000\u0000\u0000\u0000\u0000\u0000\u0000\u0000\u0000\u0000\u0000\u0000\u0000\u0000\u0000\u0000\u0000\u0000\u0000\u0000\u0000\u0000\u0000\u0000\u0000\u0000\u0000\u0000\u0000\u0000\u0000\u0000\u0000...</td>\n      <td>NaN</td>\n      <td>2017-05-18</td>\n      <td>NaN</td>\n      <td>4000000.0</td>\n      <td>-1.678724e+11</td>\n    </tr>\n    <tr>\n      <th>14</th>\n      <td>1196428</td>\n      <td>2017-05-18</td>\n      <td>CASHDEP/RAJOURI/\u0000\u0000\u0000\u0000\u0000\u0000\u0000\u0000\u0000\u0000\u0000\u0000\u0000\u0000\u0000\u0000\u0000\u0000\u0000\u0000\u0000\u0000\u0000\u0000\u0000\u0000\u0000\u0000\u0000\u0000...</td>\n      <td>NaN</td>\n      <td>2017-05-18</td>\n      <td>NaN</td>\n      <td>3400000.0</td>\n      <td>-1.678690e+11</td>\n    </tr>\n  </tbody>\n</table>\n</div>"
     },
     "metadata": {},
     "execution_count": 32
    }
   ],
   "source": [
    "clickhouse_bank_accounts_df.head(15)"
   ]
  },
  {
   "cell_type": "code",
   "execution_count": 33,
   "metadata": {},
   "outputs": [
    {
     "output_type": "stream",
     "name": "stdout",
     "text": "<class 'pandas.core.frame.DataFrame'>\nRangeIndex: 116201 entries, 0 to 116200\nData columns (total 8 columns):\n #   Column               Non-Null Count   Dtype         \n---  ------               --------------   -----         \n 0   account_no           116201 non-null  int64         \n 1   dt                   116201 non-null  datetime64[ns]\n 2   transaction_details  113702 non-null  object        \n 3   chq_no               905 non-null     float64       \n 4   value_dt             116201 non-null  datetime64[ns]\n 5   withdrawal_amt       53549 non-null   float64       \n 6   deposit_amt          62652 non-null   float64       \n 7   balance_amt          116201 non-null  float64       \ndtypes: datetime64[ns](2), float64(4), int64(1), object(1)\nmemory usage: 6.6+ MB\n"
    }
   ],
   "source": [
    "clickhouse_bank_accounts_df.info()"
   ]
  },
  {
   "cell_type": "code",
   "execution_count": 36,
   "metadata": {},
   "outputs": [
    {
     "output_type": "execute_result",
     "data": {
      "text/plain": "          account_no                   dt  \\\ncount   1.162010e+05               116201   \nunique           NaN                 1294   \ntop              NaN  2017-07-27 00:00:00   \nfreq             NaN                  567   \nfirst            NaN  2015-01-01 00:00:00   \nlast             NaN  2019-03-05 00:00:00   \nmean    2.002261e+11                  NaN   \nstd     2.044558e+11                  NaN   \nmin     1.196428e+06                  NaN   \n25%     1.196428e+06                  NaN   \n50%     1.196711e+06                  NaN   \n75%     4.090004e+11                  NaN   \nmax     4.090006e+11                  NaN   \n\n                                      transaction_details         chq_no  \\\ncount                                              113702     905.000000   \nunique                                              43212            NaN   \ntop     FDRL/INTERNAL FUND TRANSFE\u0000\u0000\u0000\u0000\u0000\u0000\u0000\u0000\u0000\u0000\u0000\u0000\u0000\u0000\u0000\u0000\u0000\u0000\u0000\u0000...            NaN   \nfreq                                                 8839            NaN   \nfirst                                                 NaN            NaN   \nlast                                                  NaN            NaN   \nmean                                                  NaN  791614.503867   \nstd                                                   NaN  151205.932910   \nmin                                                   NaN       1.000000   \n25%                                                   NaN  704231.000000   \n50%                                                   NaN  873812.000000   \n75%                                                   NaN  874167.000000   \nmax                                                   NaN  874525.000000   \n\n                   value_dt  withdrawal_amt   deposit_amt   balance_amt  \ncount                116201    5.354900e+04  6.265200e+04  1.162010e+05  \nunique                 1294             NaN           NaN           NaN  \ntop     2017-07-27 00:00:00             NaN           NaN           NaN  \nfreq                    567             NaN           NaN           NaN  \nfirst   2015-01-01 00:00:00             NaN           NaN           NaN  \nlast    2019-03-05 00:00:00             NaN           NaN           NaN  \nmean                    NaN    4.489190e+08  3.806586e+08 -1.404852e+11  \nstd                     NaN    1.084850e+09  8.683093e+08  5.348202e+10  \nmin                     NaN    1.000000e+00  1.000000e+00 -2.045201e+11  \n25%                     NaN    3.000000e+05  9.900000e+06 -1.690384e+11  \n50%                     NaN    4.708300e+06  4.265000e+07 -1.661395e+11  \n75%                     NaN    5.000000e+08  4.746412e+08 -1.236888e+11  \nmax                     NaN    4.594475e+10  5.448000e+10  8.500000e+08  ",
      "text/html": "<div>\n<style scoped>\n    .dataframe tbody tr th:only-of-type {\n        vertical-align: middle;\n    }\n\n    .dataframe tbody tr th {\n        vertical-align: top;\n    }\n\n    .dataframe thead th {\n        text-align: right;\n    }\n</style>\n<table border=\"1\" class=\"dataframe\">\n  <thead>\n    <tr style=\"text-align: right;\">\n      <th></th>\n      <th>account_no</th>\n      <th>dt</th>\n      <th>transaction_details</th>\n      <th>chq_no</th>\n      <th>value_dt</th>\n      <th>withdrawal_amt</th>\n      <th>deposit_amt</th>\n      <th>balance_amt</th>\n    </tr>\n  </thead>\n  <tbody>\n    <tr>\n      <th>count</th>\n      <td>1.162010e+05</td>\n      <td>116201</td>\n      <td>113702</td>\n      <td>905.000000</td>\n      <td>116201</td>\n      <td>5.354900e+04</td>\n      <td>6.265200e+04</td>\n      <td>1.162010e+05</td>\n    </tr>\n    <tr>\n      <th>unique</th>\n      <td>NaN</td>\n      <td>1294</td>\n      <td>43212</td>\n      <td>NaN</td>\n      <td>1294</td>\n      <td>NaN</td>\n      <td>NaN</td>\n      <td>NaN</td>\n    </tr>\n    <tr>\n      <th>top</th>\n      <td>NaN</td>\n      <td>2017-07-27 00:00:00</td>\n      <td>FDRL/INTERNAL FUND TRANSFE\u0000\u0000\u0000\u0000\u0000\u0000\u0000\u0000\u0000\u0000\u0000\u0000\u0000\u0000\u0000\u0000\u0000\u0000\u0000\u0000...</td>\n      <td>NaN</td>\n      <td>2017-07-27 00:00:00</td>\n      <td>NaN</td>\n      <td>NaN</td>\n      <td>NaN</td>\n    </tr>\n    <tr>\n      <th>freq</th>\n      <td>NaN</td>\n      <td>567</td>\n      <td>8839</td>\n      <td>NaN</td>\n      <td>567</td>\n      <td>NaN</td>\n      <td>NaN</td>\n      <td>NaN</td>\n    </tr>\n    <tr>\n      <th>first</th>\n      <td>NaN</td>\n      <td>2015-01-01 00:00:00</td>\n      <td>NaN</td>\n      <td>NaN</td>\n      <td>2015-01-01 00:00:00</td>\n      <td>NaN</td>\n      <td>NaN</td>\n      <td>NaN</td>\n    </tr>\n    <tr>\n      <th>last</th>\n      <td>NaN</td>\n      <td>2019-03-05 00:00:00</td>\n      <td>NaN</td>\n      <td>NaN</td>\n      <td>2019-03-05 00:00:00</td>\n      <td>NaN</td>\n      <td>NaN</td>\n      <td>NaN</td>\n    </tr>\n    <tr>\n      <th>mean</th>\n      <td>2.002261e+11</td>\n      <td>NaN</td>\n      <td>NaN</td>\n      <td>791614.503867</td>\n      <td>NaN</td>\n      <td>4.489190e+08</td>\n      <td>3.806586e+08</td>\n      <td>-1.404852e+11</td>\n    </tr>\n    <tr>\n      <th>std</th>\n      <td>2.044558e+11</td>\n      <td>NaN</td>\n      <td>NaN</td>\n      <td>151205.932910</td>\n      <td>NaN</td>\n      <td>1.084850e+09</td>\n      <td>8.683093e+08</td>\n      <td>5.348202e+10</td>\n    </tr>\n    <tr>\n      <th>min</th>\n      <td>1.196428e+06</td>\n      <td>NaN</td>\n      <td>NaN</td>\n      <td>1.000000</td>\n      <td>NaN</td>\n      <td>1.000000e+00</td>\n      <td>1.000000e+00</td>\n      <td>-2.045201e+11</td>\n    </tr>\n    <tr>\n      <th>25%</th>\n      <td>1.196428e+06</td>\n      <td>NaN</td>\n      <td>NaN</td>\n      <td>704231.000000</td>\n      <td>NaN</td>\n      <td>3.000000e+05</td>\n      <td>9.900000e+06</td>\n      <td>-1.690384e+11</td>\n    </tr>\n    <tr>\n      <th>50%</th>\n      <td>1.196711e+06</td>\n      <td>NaN</td>\n      <td>NaN</td>\n      <td>873812.000000</td>\n      <td>NaN</td>\n      <td>4.708300e+06</td>\n      <td>4.265000e+07</td>\n      <td>-1.661395e+11</td>\n    </tr>\n    <tr>\n      <th>75%</th>\n      <td>4.090004e+11</td>\n      <td>NaN</td>\n      <td>NaN</td>\n      <td>874167.000000</td>\n      <td>NaN</td>\n      <td>5.000000e+08</td>\n      <td>4.746412e+08</td>\n      <td>-1.236888e+11</td>\n    </tr>\n    <tr>\n      <th>max</th>\n      <td>4.090006e+11</td>\n      <td>NaN</td>\n      <td>NaN</td>\n      <td>874525.000000</td>\n      <td>NaN</td>\n      <td>4.594475e+10</td>\n      <td>5.448000e+10</td>\n      <td>8.500000e+08</td>\n    </tr>\n  </tbody>\n</table>\n</div>"
     },
     "metadata": {},
     "execution_count": 36
    }
   ],
   "source": [
    "clickhouse_bank_accounts_df.describe(include = 'all')"
   ]
  },
  {
   "cell_type": "code",
   "execution_count": 34,
   "metadata": {},
   "outputs": [
    {
     "output_type": "execute_result",
     "data": {
      "text/plain": "account_no                  0\ndt                          0\ntransaction_details      2499\nchq_no                 115296\nvalue_dt                    0\nwithdrawal_amt          62652\ndeposit_amt             53549\nbalance_amt                 0\ndtype: int64"
     },
     "metadata": {},
     "execution_count": 34
    }
   ],
   "source": [
    "clickhouse_bank_accounts_df.isnull().sum()"
   ]
  }
 ],
 "metadata": {
  "language_info": {
   "codemirror_mode": {
    "name": "ipython",
    "version": 3
   },
   "file_extension": ".py",
   "mimetype": "text/x-python",
   "name": "python",
   "nbconvert_exporter": "python",
   "pygments_lexer": "ipython3",
   "version": "3.7.3-final"
  },
  "orig_nbformat": 2,
  "kernelspec": {
   "name": "python37332bit1a1da2fef48740a28bc048c171e2c444",
   "display_name": "Python 3.7.3 32-bit"
  }
 },
 "nbformat": 4,
 "nbformat_minor": 2
}